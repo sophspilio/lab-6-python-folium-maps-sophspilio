{
  "nbformat": 4,
  "nbformat_minor": 0,
  "metadata": {
    "colab": {
      "name": "30274_lab6.ipynb",
      "provenance": [],
      "collapsed_sections": [],
      "authorship_tag": "ABX9TyOEYqirEjD03hE467Zy7DbE",
      "include_colab_link": true
    },
    "kernelspec": {
      "display_name": "Python 3",
      "name": "python3"
    }
  },
  "cells": [
    {
      "cell_type": "markdown",
      "metadata": {
        "id": "view-in-github",
        "colab_type": "text"
      },
      "source": [
        "<a href=\"https://colab.research.google.com/github/IDCE-MSGIS/lab-6-python-folium-maps-sophspilio/blob/main/30274_lab6.ipynb\" target=\"_parent\"><img src=\"https://colab.research.google.com/assets/colab-badge.svg\" alt=\"Open In Colab\"/></a>"
      ]
    },
    {
      "cell_type": "code",
      "metadata": {
        "id": "4Wh--H9VRrgJ"
      },
      "source": [
        "'''\n",
        "Sophie Spiliotopoulos\n",
        "Lab 6\n",
        "Due Dec 3, 2020\n",
        "Working with folium and leaflet, creating chlorpleth maps-- and deciding when they're useful\n",
        "'''"
      ],
      "execution_count": null,
      "outputs": []
    },
    {
      "cell_type": "code",
      "metadata": {
        "id": "ZO1WmGyvRz6F"
      },
      "source": [
        "#import libraries and files \n",
        "import folium\n",
        "import pandas as pd\n",
        "import json\n",
        "from folium import plugins\n",
        "\n",
        "df = pd.read_csv('starbucksInLACounty.csv')\n",
        "with open('laMap.geojson') as f: \n",
        "  laArea = json.load(f)"
      ],
      "execution_count": null,
      "outputs": []
    },
    {
      "cell_type": "code",
      "metadata": {
        "id": "-aQ-ymT8VNvs"
      },
      "source": [
        "#group starbucks by zip code\n",
        "numStoreSeries = df.groupby('zip').count().id\n",
        "#create new empty dataframe to store new data \n",
        "numStoresByZip = pd.DataFrame()\n",
        "#bring in zipcode and numStore columns into new dataframe\n",
        "numStoresByZip['zipcode'] = [str(i) for i in numStoreSeries.index]\n",
        "numStoresByZip['numStores'] = numStoreSeries.values"
      ],
      "execution_count": null,
      "outputs": []
    },
    {
      "cell_type": "code",
      "metadata": {
        "id": "IohgynhPVsHJ"
      },
      "source": [
        "#create a new map\n",
        "laMap = folium.Map(location=[34.0522,-118.2437], tiles='cartodbpositron', zoom_start=9, attr ='<a href=\"https://www.openstreetmap.org/\">OpenStreetMap</a> contributors, <a href=\"https://public.carto.com/viz/397fd294-a82b-4470-90cc-6153ebad5bf6/embed_map\">Positron by Carto</a> | Data from <a href = \"https://github.com/ritvikmath/StarbucksStoreScraping\">Ritvik Kharkar</a>')\n",
        "\n",
        "#create chloropleth map \n",
        "folium.Choropleth(\n",
        "    geo_data = 'laZips.geojson',         # the geojson which you want to draw on the map [in our case it is the zipcodes in LA County]\n",
        "    name='choropleth',\n",
        "    data= numStoresByZip,                # the pandas dataframe which contains the zipcode information and the values of the variable you want to plot on the choropleth\n",
        "    columns=['zipcode', 'numStores'],    # the columns from the dataframe that you want to use\n",
        "    nan_fill_color='grey',               # fill color for null values\n",
        "    nan_fill_opacity=0.4,                # opacity for null values\n",
        "    key_on='feature.properties.zipcode', # the common key between one of your columns and an attribute in the geojson. This is how python knows which dataframe row matches up to which zipcode in the geojson\n",
        "    fill_color='YlGn',                 # Try some other colors: 'YlGn', 'OrRd', 'BuGn' 'BuPu', 'GnBu', 'PuBu', 'PuBuGn', 'PuRd', 'RdPu', 'YlGn', 'YlGnBu', 'YlOrBr', 'YlOrRd'.\n",
        "    fill_opacity = 0.7,                  # fill color for data values\n",
        "    line_opacity = 0.2,                  # opacity for data values\n",
        "    legend_name = 'Number of Starbucks'\n",
        ").add_to(laMap)\n",
        "\n",
        "folium.LayerControl().add_to(laMap)\n",
        "\n",
        "# Display map\n",
        "laMap"
      ],
      "execution_count": null,
      "outputs": []
    },
    {
      "cell_type": "code",
      "metadata": {
        "id": "pd-ZIoPXeNmM"
      },
      "source": [
        "#change geographical aggreagate\n",
        "#create a new map\n",
        "laMap = folium.Map(location=[34.0522,-118.2437], tiles='Stamen Terrain', zoom_start=9, attr ='<a href=\"https://www.openstreetmap.org/\">OpenStreetMap</a> contributors, <a href=\"https://public.carto.com/viz/397fd294-a82b-4470-90cc-6153ebad5bf6/embed_map\">Positron by Carto</a> | Data from <a href = \"https://github.com/ritvikmath/StarbucksStoreScraping\">Ritvik Kharkar</a>')\n",
        "\n",
        "#create chloropleth map \n",
        "folium.Choropleth(\n",
        "    geo_data = 'laZips.geojson',         # the geojson which you want to draw on the map [in our case it is the zipcodes in LA County]\n",
        "    name='choropleth',\n",
        "    data= numStoresByZip,                # the pandas dataframe which contains the zipcode information and the values of the variable you want to plot on the choropleth\n",
        "    columns=['zipcode', 'numStores'],    # the columns from the dataframe that you want to use\n",
        "    nan_fill_color='grey',               # fill color for null values\n",
        "    nan_fill_opacity=0.4,                # opacity for null values\n",
        "    key_on='feature.properties.zipcode', # the common key between one of your columns and an attribute in the geojson. This is how python knows which dataframe row matches up to which zipcode in the geojson\n",
        "    fill_color='YlGn',                 # Try some other colors: 'YlGn', 'OrRd', 'BuGn' 'BuPu', 'GnBu', 'PuBu', 'PuBuGn', 'PuRd', 'RdPu', 'YlGn', 'YlGnBu', 'YlOrBr', 'YlOrRd'.\n",
        "    fill_opacity = 0.7,                  # fill color for data values\n",
        "    line_opacity = 0.2,                  # opacity for data values\n",
        "    legend_name = 'Number of Starbucks'\n",
        ").add_to(laMap)\n",
        "\n",
        "folium.LayerControl().add_to(laMap)\n",
        "\n",
        "# Display map\n",
        "laMap"
      ],
      "execution_count": null,
      "outputs": []
    },
    {
      "cell_type": "code",
      "metadata": {
        "id": "ONeKdVxOepf-"
      },
      "source": [
        "#Create Starbucks Location Map\n",
        "laMap = folium.Map(location=[34.0522,-118.2437], tiles='Stamen Toner', zoom_start=9)\n",
        "#add shape of la county \n",
        "folium.GeoJson(laArea).add_to(laMap)\n",
        "#for each row in starbucks dataset, plot associated lat and long \n",
        "for i, row in df.iterrows():\n",
        "  folium.CircleMarker((row.latitude,row.longitude),radius=3, weight=2, color='green', fill_color='green', fill_opacity=.5).add_to(laMap)\n",
        "\n",
        "#display map\n",
        "laMap"
      ],
      "execution_count": null,
      "outputs": []
    },
    {
      "cell_type": "code",
      "metadata": {
        "id": "RANRTBuWfY0d"
      },
      "source": [
        "#mapping unemployment by state based on 2012 census data \n",
        "url = 'https://raw.githubusercontent.com/python-visualization/folium/master/examples/data' #see files at https://github.com/python-visualization/folium/tree/master/examples/data\n",
        "state_geo = f'{url}/us-states.json'\n",
        "state_unemployment = f'{url}/US_Unemployment_Oct2012.csv'\n",
        "state_data = pd.read_csv(state_unemployment)\n",
        "\n",
        "statemap = folium.Map(location=[48, -102], zoom_start=3, tiles = 'Stamen Terrain')\n",
        "\n",
        "folium.Choropleth(\n",
        "    geo_data=state_geo,\n",
        "    name='choropleth',\n",
        "    data=state_data,\n",
        "    columns=['State', 'Unemployment'],\n",
        "    key_on='feature.id',\n",
        "    fill_color='OrRd',\n",
        "    fill_opacity=0.7,\n",
        "    line_opacity=0.2,\n",
        "    legend_name='2012 Unemployment Rate (%)'\n",
        ").add_to(statemap)\n",
        "\n",
        "folium.LayerControl().add_to(statemap)\n",
        "\n",
        "#make the map!\n",
        "statemap"
      ],
      "execution_count": null,
      "outputs": []
    }
  ]
}